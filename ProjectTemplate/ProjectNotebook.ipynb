{
 "cells": [
  {
   "cell_type": "markdown",
   "metadata": {},
   "source": [
    "# Project Description"
   ]
  },
  {
   "cell_type": "markdown",
   "metadata": {},
   "source": [
    "Write a brief description of your project here. \n",
    "\n",
    "Note that projects should be self-sufficient, so make sure to provide enough information and context here for someone to understand what you are doing in your project, and why. "
   ]
  },
  {
   "cell_type": "markdown",
   "metadata": {},
   "source": [
    "My project was inspired by a combination of a mini game from http://programarcadegames.com/ and the following snake game https://www.edureka.co/blog/snake-game-with-pygame/#install. These two examples were modified to create a unique multifunction game. To make my project unique, I changed the functionality of how the player sprite moves, altered colors and the title within the game display window, and added a timer. I also made the existing code modular, instead of the freeform it previously had, and added/updated documentation and comments to make it easier to use and understand. In order to initialize my game, you will need to install pygame, random and time (as detailed in my requirements). Then run the following cells and the game will initialize. References for my project include the following URLs. Known bugs within my code include the inability to quit the program. (Can only be quit by manually quitting via Force Quit.)"
   ]
  },
  {
   "cell_type": "markdown",
   "metadata": {},
   "source": [
    "## Project Code\n",
    "\n",
    "If it makes sense for your project, you can have code and outputs here in the notebook as well."
   ]
  },
  {
   "cell_type": "code",
   "execution_count": 2,
   "metadata": {},
   "outputs": [
    {
     "name": "stdout",
     "output_type": "stream",
     "text": [
      "Requirement already satisfied: pygame in /opt/anaconda3/lib/python3.7/site-packages (1.9.6)\n",
      "Note: you may need to restart the kernel to use updated packages.\n"
     ]
    }
   ],
   "source": [
    "pip install pygame"
   ]
  },
  {
   "cell_type": "code",
   "execution_count": null,
   "metadata": {},
   "outputs": [
    {
     "name": "stdout",
     "output_type": "stream",
     "text": [
      "pygame 1.9.6\n",
      "Hello from the pygame community. https://www.pygame.org/contribute.html\n",
      "1\n",
      "2\n",
      "3\n",
      "4\n",
      "1592112714.148149\n"
     ]
    }
   ],
   "source": [
    "import pygame\n",
    "import random\n",
    "import time\n",
    "\n",
    "from my_module.classes import StartGame\n",
    "from my_module.functions import run_timer\n",
    "\n",
    "# Move the player block using the arrow keys\n",
    "\n",
    "new_game = StartGame()\n",
    "new_game.run_game()\n",
    "\n",
    "run_timer()"
   ]
  },
  {
   "cell_type": "markdown",
   "metadata": {},
   "source": [
    "#### Extra Credit (*optional*)\n",
    "\n",
    "Replace all of this text with a brief explanation (~3 sentences) of: \n",
    "1. Your Python Background\n",
    "2. How your project went above and beyond the requirements of the project and/or how you challenged yourself to learn something new with the final project"
   ]
  },
  {
   "cell_type": "markdown",
   "metadata": {},
   "source": [
    "Before this class I had no programming experience. In this project I challenged myself by learning how to use the pygame and time modules. Although my code is primarily code from other people that I have altered, I learned about pygames functionality in the process of doing so. While my project may not seem very special, I have worked very hard to learn and understand pygame in order create a functional game, and I hope this shows through in my project."
   ]
  }
 ],
 "metadata": {
  "kernelspec": {
   "display_name": "Python 3",
   "language": "python",
   "name": "python3"
  },
  "language_info": {
   "codemirror_mode": {
    "name": "ipython",
    "version": 3
   },
   "file_extension": ".py",
   "mimetype": "text/x-python",
   "name": "python",
   "nbconvert_exporter": "python",
   "pygments_lexer": "ipython3",
   "version": "3.7.6"
  }
 },
 "nbformat": 4,
 "nbformat_minor": 2
}
